{
 "cells": [
  {
   "cell_type": "code",
   "execution_count": 1,
   "metadata": {},
   "outputs": [],
   "source": [
    "import numpy as np\n",
    "import pandas as pd\n",
    "test = '''\n",
    "5483143223\n",
    "2745854711\n",
    "5264556173\n",
    "6141336146\n",
    "6357385478\n",
    "4167524645\n",
    "2176841721\n",
    "6882881134\n",
    "4846848554\n",
    "5283751526\n",
    "'''\n",
    "test_array = np.array([[int(a) for a in list(row)] for row in test.strip('\\n').split('\\n')])"
   ]
  },
  {
   "cell_type": "markdown",
   "metadata": {},
   "source": [
    "# Part 1 - How many flashes are there in 100 rounds of flashing?"
   ]
  },
  {
   "cell_type": "code",
   "execution_count": 2,
   "metadata": {},
   "outputs": [],
   "source": [
    "def increment_to_adjacent(loc,val_array):\n",
    "    row_lb = max(loc[0]-1,0)\n",
    "    row_ub = min(loc[0]+1,val_array.shape[0]-1)\n",
    "    col_lb = max(loc[1]-1,0)\n",
    "    col_ub = min(loc[1]+1,val_array.shape[1]-1)\n",
    "    to_add = np.ones((row_ub-row_lb+1,col_ub-col_lb+1),dtype=int)\n",
    "    val_array[row_lb:row_ub+1,col_lb:col_ub+1] += to_add\n",
    "    return val_array\n",
    "\n",
    "def do_increment(energy_levels):\n",
    "    the_array = energy_levels.copy() + 1\n",
    "    flash_array = np.zeros(the_array.shape)\n",
    "    while np.logical_and(the_array>9,flash_array == 0).any():\n",
    "        for index in np.argwhere(np.logical_and(the_array>9,flash_array == 0)):\n",
    "            flash_array[index[0],index[1]] = 1\n",
    "            increment_to_adjacent(index,the_array)\n",
    "    the_array = np.where(the_array>=10,0,the_array)\n",
    "    return the_array, np.sum(flash_array>0)\n",
    "\n",
    "def do_n_rounds(energy_levels,n):\n",
    "    the_array = energy_levels.copy()\n",
    "    total_flashes = 0\n",
    "    for i in range(n):\n",
    "        the_array, num_flashes = do_increment(the_array)\n",
    "        total_flashes += num_flashes\n",
    "    return total_flashes"
   ]
  },
  {
   "cell_type": "code",
   "execution_count": 3,
   "metadata": {},
   "outputs": [
    {
     "data": {
      "text/plain": [
       "1656"
      ]
     },
     "execution_count": 3,
     "metadata": {},
     "output_type": "execute_result"
    }
   ],
   "source": [
    "do_n_rounds(test_array,100)"
   ]
  },
  {
   "cell_type": "code",
   "execution_count": 4,
   "metadata": {},
   "outputs": [],
   "source": [
    "my_data = '''\n",
    "4112256372\n",
    "3143253712\n",
    "4516848631\n",
    "3783477137\n",
    "3746723582\n",
    "5861358884\n",
    "4843351774\n",
    "2316447621\n",
    "6643817745\n",
    "6366815868\n",
    "'''\n",
    "actual_array = np.array([[int(a) for a in list(row)] for row in my_data.strip('\\n').split('\\n')])"
   ]
  },
  {
   "cell_type": "code",
   "execution_count": 5,
   "metadata": {},
   "outputs": [
    {
     "data": {
      "text/plain": [
       "array([[4, 1, 1, 2, 2, 5, 6, 3, 7, 2],\n",
       "       [3, 1, 4, 3, 2, 5, 3, 7, 1, 2],\n",
       "       [4, 5, 1, 6, 8, 4, 8, 6, 3, 1],\n",
       "       [3, 7, 8, 3, 4, 7, 7, 1, 3, 7],\n",
       "       [3, 7, 4, 6, 7, 2, 3, 5, 8, 2],\n",
       "       [5, 8, 6, 1, 3, 5, 8, 8, 8, 4],\n",
       "       [4, 8, 4, 3, 3, 5, 1, 7, 7, 4],\n",
       "       [2, 3, 1, 6, 4, 4, 7, 6, 2, 1],\n",
       "       [6, 6, 4, 3, 8, 1, 7, 7, 4, 5],\n",
       "       [6, 3, 6, 6, 8, 1, 5, 8, 6, 8]])"
      ]
     },
     "execution_count": 5,
     "metadata": {},
     "output_type": "execute_result"
    }
   ],
   "source": [
    "actual_array"
   ]
  },
  {
   "cell_type": "code",
   "execution_count": 6,
   "metadata": {},
   "outputs": [
    {
     "data": {
      "text/plain": [
       "1603"
      ]
     },
     "execution_count": 6,
     "metadata": {},
     "output_type": "execute_result"
    }
   ],
   "source": [
    "do_n_rounds(actual_array,100)"
   ]
  },
  {
   "cell_type": "markdown",
   "metadata": {},
   "source": [
    "# Part 2 - First time they all flash"
   ]
  },
  {
   "cell_type": "code",
   "execution_count": 7,
   "metadata": {},
   "outputs": [],
   "source": [
    "def find_first_all_flash(energy_array):\n",
    "    num_rounds = 1\n",
    "    the_array = energy_array.copy()\n",
    "    the_array, num_flashes = do_increment(the_array)\n",
    "    while num_flashes < energy_array.size:\n",
    "        num_rounds += 1\n",
    "        the_array, num_flashes = do_increment(the_array)\n",
    "    return num_rounds      "
   ]
  },
  {
   "cell_type": "code",
   "execution_count": 8,
   "metadata": {},
   "outputs": [
    {
     "data": {
      "text/plain": [
       "195"
      ]
     },
     "execution_count": 8,
     "metadata": {},
     "output_type": "execute_result"
    }
   ],
   "source": [
    "find_first_all_flash(test_array)"
   ]
  },
  {
   "cell_type": "code",
   "execution_count": 9,
   "metadata": {},
   "outputs": [
    {
     "data": {
      "text/plain": [
       "222"
      ]
     },
     "execution_count": 9,
     "metadata": {},
     "output_type": "execute_result"
    }
   ],
   "source": [
    "find_first_all_flash(actual_array)"
   ]
  },
  {
   "cell_type": "code",
   "execution_count": null,
   "metadata": {},
   "outputs": [],
   "source": []
  }
 ],
 "metadata": {
  "kernelspec": {
   "display_name": "Python 3",
   "language": "python",
   "name": "python3"
  },
  "language_info": {
   "codemirror_mode": {
    "name": "ipython",
    "version": 3
   },
   "file_extension": ".py",
   "mimetype": "text/x-python",
   "name": "python",
   "nbconvert_exporter": "python",
   "pygments_lexer": "ipython3",
   "version": "3.6.5"
  }
 },
 "nbformat": 4,
 "nbformat_minor": 2
}
