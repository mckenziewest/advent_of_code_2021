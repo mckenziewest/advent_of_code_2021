{
 "cells": [
  {
   "cell_type": "code",
   "execution_count": 1,
   "metadata": {},
   "outputs": [],
   "source": [
    "with open('inputs/input_13.txt') as the_data:\n",
    "    dots,folds = the_data.read().strip('\\n').split('\\n\\n')\n",
    "dots = [tuple([int(a) for a in d.split(',')]) for d in dots.split('\\n')]\n",
    "folds = [(f.split('=')[0],int(f.split('=')[1])) for f in folds.replace('fold along ','').split('\\n')]"
   ]
  },
  {
   "cell_type": "code",
   "execution_count": 2,
   "metadata": {},
   "outputs": [
    {
     "data": {
      "text/plain": [
       "[('x', 655),\n",
       " ('y', 447),\n",
       " ('x', 327),\n",
       " ('y', 223),\n",
       " ('x', 163),\n",
       " ('y', 111),\n",
       " ('x', 81),\n",
       " ('y', 55),\n",
       " ('x', 40),\n",
       " ('y', 27),\n",
       " ('y', 13),\n",
       " ('y', 6)]"
      ]
     },
     "execution_count": 2,
     "metadata": {},
     "output_type": "execute_result"
    }
   ],
   "source": [
    "folds"
   ]
  },
  {
   "cell_type": "code",
   "execution_count": 8,
   "metadata": {},
   "outputs": [],
   "source": [
    "import numpy as np\n",
    "dots_array = np.zeros((655*2+1,447*2+1))\n",
    "for i,j in dots:\n",
    "    dots_array[i][j] = 1"
   ]
  },
  {
   "cell_type": "code",
   "execution_count": 9,
   "metadata": {},
   "outputs": [
    {
     "data": {
      "text/plain": [
       "(1311, 895)"
      ]
     },
     "execution_count": 9,
     "metadata": {},
     "output_type": "execute_result"
    }
   ],
   "source": [
    "dots_array.shape"
   ]
  },
  {
   "cell_type": "code",
   "execution_count": 5,
   "metadata": {},
   "outputs": [
    {
     "data": {
      "text/plain": [
       "[('x', 655),\n",
       " ('y', 447),\n",
       " ('x', 327),\n",
       " ('y', 223),\n",
       " ('x', 163),\n",
       " ('y', 111),\n",
       " ('x', 81),\n",
       " ('y', 55),\n",
       " ('x', 40),\n",
       " ('y', 27),\n",
       " ('y', 13),\n",
       " ('y', 6)]"
      ]
     },
     "execution_count": 5,
     "metadata": {},
     "output_type": "execute_result"
    }
   ],
   "source": [
    "folds"
   ]
  },
  {
   "cell_type": "code",
   "execution_count": 10,
   "metadata": {},
   "outputs": [
    {
     "data": {
      "text/plain": [
       "602"
      ]
     },
     "execution_count": 10,
     "metadata": {},
     "output_type": "execute_result"
    }
   ],
   "source": [
    "def do_fold(dots_array,fold):\n",
    "    axis,val = fold\n",
    "    if axis == 'x':\n",
    "        keep = dots_array[:val,:]\n",
    "        flip = np.flipud(dots_array[val+1:,:])\n",
    "    elif axis == 'y':\n",
    "        keep = dots_array[:,:val]\n",
    "        flip = np.fliplr(dots_array[:,val+1:])\n",
    "    return keep + flip\n",
    "\n",
    "np.sum(do_fold(dots_array,folds[0])>0)\n"
   ]
  },
  {
   "cell_type": "code",
   "execution_count": 11,
   "metadata": {},
   "outputs": [],
   "source": [
    "A = np.array([[1,2,3,4,5],[3,4,5,6,7]])"
   ]
  },
  {
   "cell_type": "code",
   "execution_count": 12,
   "metadata": {},
   "outputs": [
    {
     "data": {
      "text/plain": [
       "array([[ 6,  6],\n",
       "       [10, 10]])"
      ]
     },
     "execution_count": 12,
     "metadata": {},
     "output_type": "execute_result"
    }
   ],
   "source": [
    "A[:,:2] + np.fliplr(A[:,3:])"
   ]
  },
  {
   "cell_type": "code",
   "execution_count": 13,
   "metadata": {},
   "outputs": [
    {
     "name": "stdout",
     "output_type": "stream",
     "text": [
      "('x', 655)\n",
      "(1311, 895)\n",
      "('y', 447)\n",
      "(655, 895)\n",
      "('x', 327)\n",
      "(655, 447)\n",
      "('y', 223)\n",
      "(327, 447)\n",
      "('x', 163)\n",
      "(327, 223)\n",
      "('y', 111)\n",
      "(163, 223)\n",
      "('x', 81)\n",
      "(163, 111)\n",
      "('y', 55)\n",
      "(81, 111)\n",
      "('x', 40)\n",
      "(81, 55)\n",
      "('y', 27)\n",
      "(40, 55)\n",
      "('y', 13)\n",
      "(40, 27)\n",
      "('y', 6)\n",
      "(40, 13)\n"
     ]
    }
   ],
   "source": [
    "the_array = dots_array.copy()\n",
    "for fold in folds:\n",
    "    print(fold)\n",
    "    print(the_array.shape)\n",
    "    the_array = do_fold(the_array,fold)"
   ]
  },
  {
   "cell_type": "code",
   "execution_count": 35,
   "metadata": {},
   "outputs": [
    {
     "name": "stdout",
     "output_type": "stream",
     "text": [
      " **   **  ****   ** *  * ****  **  *  * \n",
      "*  * *  * *       * *  *    * *  * * *  \n",
      "*    *  * ***     * ****   *  *    **   \n",
      "*    **** *       * *  *  *   *    * *  \n",
      "*  * *  * *    *  * *  * *    *  * * *  \n",
      " **  *  * *     **  *  * ****  **  *  * \n"
     ]
    }
   ],
   "source": [
    "for i in range(the_array.shape[1]):\n",
    "    print(''.join(list(np.where(the_array>0,\"*\",\" \")[:,i].transpose())))"
   ]
  },
  {
   "cell_type": "code",
   "execution_count": 26,
   "metadata": {},
   "outputs": [
    {
     "data": {
      "text/plain": [
       "[1, 2, 3, 4, 5]"
      ]
     },
     "execution_count": 26,
     "metadata": {},
     "output_type": "execute_result"
    }
   ],
   "source": [
    "list(A[0])"
   ]
  },
  {
   "cell_type": "code",
   "execution_count": null,
   "metadata": {},
   "outputs": [],
   "source": []
  }
 ],
 "metadata": {
  "kernelspec": {
   "display_name": "Python 3",
   "language": "python",
   "name": "python3"
  },
  "language_info": {
   "codemirror_mode": {
    "name": "ipython",
    "version": 3
   },
   "file_extension": ".py",
   "mimetype": "text/x-python",
   "name": "python",
   "nbconvert_exporter": "python",
   "pygments_lexer": "ipython3",
   "version": "3.6.5"
  }
 },
 "nbformat": 4,
 "nbformat_minor": 2
}
