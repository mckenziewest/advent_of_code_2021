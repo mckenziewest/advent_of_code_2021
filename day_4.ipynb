{
 "cells": [
  {
   "cell_type": "code",
   "execution_count": 1,
   "metadata": {},
   "outputs": [],
   "source": [
    "import numpy as np\n",
    "def make_board(board_string):\n",
    "    '''\n",
    "    Given a list of bingo boards as strings, entries separated by spaces and rows by `\"\\n\"` characters,\n",
    "    creates a two-dimensiona numpy array.\n",
    "    \n",
    "    Input:\n",
    "    - board_string: a string that represents a bingo board.\n",
    "    \n",
    "    Output:\n",
    "    A numpy array that represents the same bingo board.\n",
    "    '''\n",
    "    as_lists = [r.split() for r in board_string.split('\\n')]\n",
    "    return np.array(as_lists).astype(int)\n",
    "\n",
    "with open('inputs/input_4.txt') as the_data:\n",
    "    # First read the values of the randomly drawn numbers.\n",
    "    values = the_data.readline().replace('\\n','').split(',')\n",
    "    # Second read the boards.\n",
    "    board_strings = the_data.read().strip('\\n').split('\\n\\n')\n",
    "    \n",
    "# Turn the boards into arrays\n",
    "boards = [make_board(bs) for bs in board_strings]\n",
    "# Turn the values into integers\n",
    "values = [int(a) for a in values]\n"
   ]
  },
  {
   "cell_type": "markdown",
   "metadata": {},
   "source": [
    "# Part 1 - Find the fastest winning bingo board"
   ]
  },
  {
   "cell_type": "code",
   "execution_count": 2,
   "metadata": {},
   "outputs": [],
   "source": [
    "def time_to_win(board,draws):\n",
    "    '''\n",
    "    Given a list of bingo boards and of number draws, determine how many draws it will take before the board has a bingo.\n",
    "    \n",
    "    Input:\n",
    "    - board: a numpy array representing a bingo board\n",
    "    - draws: the list of randomly drawn number tokens\n",
    "    \n",
    "    Output:\n",
    "    An integer representing how many draws it would take before the board would win.\n",
    "    '''\n",
    "    row_complete_times = []\n",
    "    for row in list(board) + list(board.transpose()):\n",
    "        locs = [draws.index(e) for e in row]\n",
    "        if len(locs) == 5:\n",
    "            row_complete_times.append(max(locs))\n",
    "    return min(row_complete_times)"
   ]
  },
  {
   "cell_type": "code",
   "execution_count": 3,
   "metadata": {},
   "outputs": [],
   "source": [
    "times = [time_to_win(b,values) for b in boards]\n",
    "fastest_board = boards[times.index(min(times))]"
   ]
  },
  {
   "cell_type": "code",
   "execution_count": 4,
   "metadata": {},
   "outputs": [],
   "source": [
    "def get_board_score(board,draws):\n",
    "    '''\n",
    "    Given a list of bingo boards and of number draws, determine the 'score' of the card.\n",
    "    The score is the sum of the unmarked values at the time of its win multiplied by the value just marked for its win.\n",
    "    \n",
    "    Input:\n",
    "    - board: a numpy array representing a bingo board\n",
    "    - draws: the list of randomly drawn number tokens\n",
    "    \n",
    "    Output:\n",
    "    An integer that is the score of the card.\n",
    "    '''\n",
    "    time = time_to_win(board,draws)\n",
    "    board_vals = np.reshape(board,(board.size))\n",
    "    score = 0\n",
    "    for v in board_vals:\n",
    "        if v not in draws or draws.index(v) > time:\n",
    "            score += v\n",
    "        if draws.index(v) == time:\n",
    "            mult = v\n",
    "    return mult * score"
   ]
  },
  {
   "cell_type": "code",
   "execution_count": 5,
   "metadata": {},
   "outputs": [
    {
     "data": {
      "text/plain": [
       "69579"
      ]
     },
     "execution_count": 5,
     "metadata": {},
     "output_type": "execute_result"
    }
   ],
   "source": [
    "get_board_score(fastest_board,values)"
   ]
  },
  {
   "cell_type": "markdown",
   "metadata": {},
   "source": [
    "# Part 2 Find the slowest board"
   ]
  },
  {
   "cell_type": "code",
   "execution_count": 6,
   "metadata": {},
   "outputs": [],
   "source": [
    "slowest_board = boards[times.index(max(times))]"
   ]
  },
  {
   "cell_type": "code",
   "execution_count": 7,
   "metadata": {},
   "outputs": [
    {
     "data": {
      "text/plain": [
       "array([[30, 35, 52, 81, 47],\n",
       "       [82, 33, 62, 97, 34],\n",
       "       [90,  1, 86, 88, 68],\n",
       "       [36, 77, 18, 12, 93],\n",
       "       [ 9, 91, 43, 87, 24]])"
      ]
     },
     "execution_count": 7,
     "metadata": {},
     "output_type": "execute_result"
    }
   ],
   "source": [
    "slowest_board"
   ]
  },
  {
   "cell_type": "code",
   "execution_count": 8,
   "metadata": {},
   "outputs": [
    {
     "data": {
      "text/plain": [
       "14877"
      ]
     },
     "execution_count": 8,
     "metadata": {},
     "output_type": "execute_result"
    }
   ],
   "source": [
    "get_board_score(slowest_board,values)"
   ]
  },
  {
   "cell_type": "code",
   "execution_count": null,
   "metadata": {},
   "outputs": [],
   "source": []
  },
  {
   "cell_type": "code",
   "execution_count": null,
   "metadata": {},
   "outputs": [],
   "source": []
  }
 ],
 "metadata": {
  "kernelspec": {
   "display_name": "Python 3",
   "language": "python",
   "name": "python3"
  },
  "language_info": {
   "codemirror_mode": {
    "name": "ipython",
    "version": 3
   },
   "file_extension": ".py",
   "mimetype": "text/x-python",
   "name": "python",
   "nbconvert_exporter": "python",
   "pygments_lexer": "ipython3",
   "version": "3.6.5"
  }
 },
 "nbformat": 4,
 "nbformat_minor": 5
}
