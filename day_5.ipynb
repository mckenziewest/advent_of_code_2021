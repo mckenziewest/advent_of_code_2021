{
 "cells": [
  {
   "cell_type": "code",
   "execution_count": 1,
   "id": "6720ba9d",
   "metadata": {},
   "outputs": [],
   "source": [
    "import numpy as np\n",
    "with open('input_5.txt') as the_data:\n",
    "    line_data = the_data.read().split('\\n')\n",
    "line_data = [[[int(a) for a in v.split(',')] for v in l.split('->')] for l in line_data[:-1]]"
   ]
  },
  {
   "cell_type": "markdown",
   "id": "20d1e30f",
   "metadata": {},
   "source": [
    "# Part 1 - Count the spots covered by at least two horizontal or vertical lines"
   ]
  },
  {
   "cell_type": "code",
   "execution_count": 2,
   "id": "35a2de3c",
   "metadata": {},
   "outputs": [],
   "source": [
    "part_1_lines = []\n",
    "for row in line_data:\n",
    "    if row[0][0] == row[1][0] or row[0][1] == row[1][1]:\n",
    "        part_1_lines.append(row)"
   ]
  },
  {
   "cell_type": "code",
   "execution_count": 3,
   "id": "5cff125e",
   "metadata": {},
   "outputs": [],
   "source": [
    "max_x = max([max(row[0][0],row[1][0]) for row in line_data])\n",
    "max_y = max([max(row[0][1],row[1][1]) for row in line_data])"
   ]
  },
  {
   "cell_type": "code",
   "execution_count": 4,
   "id": "42f2cfbe",
   "metadata": {},
   "outputs": [],
   "source": [
    "field = np.zeros((max_x+1,max_y+1))\n",
    "for row in part_1_lines:\n",
    "    xlb = min(row[0][0],row[1][0])\n",
    "    xub = max(row[0][0],row[1][0])\n",
    "    ylb = min(row[0][1],row[1][1])\n",
    "    yub = max(row[0][1],row[1][1])\n",
    "    \n",
    "    field[xlb:xub+1,ylb:yub+1] += 1\n",
    "    \n",
    "    # Below lies the loopy way to do this...oh numpy, you slick\n",
    "    #for i in range(xlb,xub+1):\n",
    "        #for j in range(ylb,yub+1):\n",
    "            #field[i][j] += 1"
   ]
  },
  {
   "cell_type": "code",
   "execution_count": 5,
   "id": "6f2820e6",
   "metadata": {},
   "outputs": [
    {
     "data": {
      "text/plain": [
       "5698"
      ]
     },
     "execution_count": 5,
     "metadata": {},
     "output_type": "execute_result"
    }
   ],
   "source": [
    "np.greater_equal(field,2).sum()"
   ]
  },
  {
   "cell_type": "markdown",
   "id": "7fe4e7ea",
   "metadata": {},
   "source": [
    "# Part 2 - Now add in the diagonal lines and count again"
   ]
  },
  {
   "cell_type": "code",
   "execution_count": 6,
   "id": "6da0eb38",
   "metadata": {},
   "outputs": [],
   "source": [
    "other_lines = [line for line in line_data if line not in part_1_lines]"
   ]
  },
  {
   "cell_type": "code",
   "execution_count": 7,
   "id": "b536c375",
   "metadata": {},
   "outputs": [],
   "source": [
    "for row in other_lines:\n",
    "    xlb = min(row[0][0],row[1][0])\n",
    "    xub = max(row[0][0],row[1][0])\n",
    "    ylb = min(row[0][1],row[1][1])\n",
    "    yub = max(row[0][1],row[1][1])\n",
    "    assert xub-xlb == yub-ylb\n",
    "    to_add = np.diag(np.ones(xub-xlb+1))\n",
    "    if (row[0][0]-row[1][0])*(row[0][1]-row[1][1]) < 0:\n",
    "        to_add = np.flipud(to_add)\n",
    "        \n",
    "    field[xlb:xub+1,ylb:yub+1] += to_add\n",
    "    #xpm = 1 if xlb == row[0][0] else -1\n",
    "    #ypm = 1 if ylb == row[0][1] else -1\n",
    "    #print(row) #sanity check to verify this loop does what I want\n",
    "    #for i in range(xub-xlb+1):\n",
    "        #print(row[0][0]+i*xpm, row[0][1]+i*ypm) # print the indices given this line (row)\n",
    "        #field[row[0][0]+i*xpm][row[0][1]+i*ypm] += 1"
   ]
  },
  {
   "cell_type": "code",
   "execution_count": 8,
   "id": "d13972ba",
   "metadata": {},
   "outputs": [
    {
     "data": {
      "text/plain": [
       "15463"
      ]
     },
     "execution_count": 8,
     "metadata": {},
     "output_type": "execute_result"
    }
   ],
   "source": [
    "np.greater_equal(field,2).sum()"
   ]
  }
 ],
 "metadata": {
  "kernelspec": {
   "display_name": "Python 3",
   "language": "python",
   "name": "python3"
  },
  "language_info": {
   "codemirror_mode": {
    "name": "ipython",
    "version": 3
   },
   "file_extension": ".py",
   "mimetype": "text/x-python",
   "name": "python",
   "nbconvert_exporter": "python",
   "pygments_lexer": "ipython3",
   "version": "3.8.8"
  }
 },
 "nbformat": 4,
 "nbformat_minor": 5
}
