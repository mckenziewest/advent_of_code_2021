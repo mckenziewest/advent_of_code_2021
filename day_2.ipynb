{
 "cells": [
  {
   "cell_type": "code",
   "execution_count": 8,
   "metadata": {},
   "outputs": [],
   "source": [
    "with open('input_2.txt') as the_data:\n",
    "    commands = [tuple(d.split()) for d in the_data.read().split('\\n') if d!='']"
   ]
  },
  {
   "cell_type": "code",
   "execution_count": 10,
   "metadata": {},
   "outputs": [
    {
     "name": "stdout",
     "output_type": "stream",
     "text": [
      "2019945\n"
     ]
    }
   ],
   "source": [
    "position = [0,0] # horizontal position, depth\n",
    "for direction, value in commands:\n",
    "    value = int(value)\n",
    "    if direction == 'forward':\n",
    "        position[0] += value\n",
    "    elif direction == 'down':\n",
    "        position[1] += value\n",
    "    elif direction == 'up':\n",
    "        position[1] -= value\n",
    "print(position[0]*position[1])"
   ]
  },
  {
   "cell_type": "code",
   "execution_count": null,
   "metadata": {},
   "outputs": [],
   "source": [
    "position = [0,0,0] # horizontal position, depth, aim\n",
    "for direction, value in commands:\n",
    "    value = int(value)\n",
    "    if direction == 'forward':\n",
    "        position[2]\n",
    "        position[0] += value\n",
    "    elif direction == 'down':\n",
    "        position[2] -= value\n",
    "    elif direction == 'up':\n",
    "        poisition[2] += value\n",
    "print(position[0]*position[1])"
   ]
  }
 ],
 "metadata": {
  "kernelspec": {
   "display_name": "Python 3",
   "language": "python",
   "name": "python3"
  },
  "language_info": {
   "codemirror_mode": {
    "name": "ipython",
    "version": 3
   },
   "file_extension": ".py",
   "mimetype": "text/x-python",
   "name": "python",
   "nbconvert_exporter": "python",
   "pygments_lexer": "ipython3",
   "version": "3.6.5"
  }
 },
 "nbformat": 4,
 "nbformat_minor": 2
}
