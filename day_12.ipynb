{
 "cells": [
  {
   "cell_type": "code",
   "execution_count": 1,
   "metadata": {},
   "outputs": [],
   "source": [
    "test_1 = '''\n",
    "start-A\n",
    "start-b\n",
    "A-c\n",
    "A-b\n",
    "b-d\n",
    "A-end\n",
    "b-end\n",
    "'''\n",
    "test_2 = '''\n",
    "dc-end\n",
    "HN-start\n",
    "start-kj\n",
    "dc-start\n",
    "dc-HN\n",
    "LN-dc\n",
    "HN-end\n",
    "kj-sa\n",
    "kj-HN\n",
    "kj-dc\n",
    "'''\n",
    "test_3 = '''\n",
    "fs-end\n",
    "he-DX\n",
    "fs-he\n",
    "start-DX\n",
    "pj-DX\n",
    "end-zg\n",
    "zg-sl\n",
    "zg-pj\n",
    "pj-he\n",
    "RW-he\n",
    "fs-DX\n",
    "pj-RW\n",
    "zg-RW\n",
    "start-pj\n",
    "he-WI\n",
    "zg-he\n",
    "pj-fs\n",
    "start-RW\n",
    "'''\n",
    "my_input = '''\n",
    "re-js\n",
    "qx-CG\n",
    "start-js\n",
    "start-bj\n",
    "qx-ak\n",
    "js-bj\n",
    "ak-re\n",
    "CG-ak\n",
    "js-CG\n",
    "bj-re\n",
    "ak-lg\n",
    "lg-CG\n",
    "qx-re\n",
    "WP-ak\n",
    "WP-end\n",
    "re-lg\n",
    "end-ak\n",
    "WP-re\n",
    "bj-CG\n",
    "qx-start\n",
    "bj-WP\n",
    "JG-lg\n",
    "end-lg\n",
    "lg-iw\n",
    "'''"
   ]
  },
  {
   "cell_type": "markdown",
   "metadata": {},
   "source": [
    "# Part 1 - Counting paths\n",
    "\n",
    "Given a graph, compute the number of paths from a starting node to an ending node with the definition of path edited to allow rentry of a node represented by an uppercase letter."
   ]
  },
  {
   "cell_type": "code",
   "execution_count": 2,
   "metadata": {},
   "outputs": [],
   "source": [
    "def make_adjacency(cave_string,first='start'):\n",
    "    '''\n",
    "    Generates a dictionary that indicates the adjacencies of a cave string.\n",
    "    \n",
    "    Input: \n",
    "    - cave_string: a string that represents the connections of a graph where each adjacency, `\"A-B\"`, is on its own line\n",
    "    - first: the starting node of the paths to be considered - this node will not be re-entered and thus will not be\n",
    "      considered as adjacenct from its neighbors\n",
    "    \n",
    "    Output:\n",
    "    a dictionary who's keys are the distinct nodes and values are the nodes adjacent to the given key\n",
    "    '''\n",
    "    connections = [set(connection.split(\"-\")) for connection in cave_string.strip('\\n').split('\\n')]\n",
    "    caves = set().union(*connections)\n",
    "    adj = {cave:[a_cave for a_cave in caves if {cave,a_cave} in connections and a_cave not in [cave,first]]\\\n",
    "           for cave in caves}\n",
    "    return adj"
   ]
  },
  {
   "cell_type": "code",
   "execution_count": 3,
   "metadata": {},
   "outputs": [],
   "source": [
    "def get_all_next(path,cave_adjacency,last='end',part=1):\n",
    "    '''\n",
    "    Increments a path by one step to all possible nearby nodes.\n",
    "    \n",
    "    Input:\n",
    "    - path: a list of nodes that represents a path\n",
    "    - cave_adjacency: a dictionary representing adjacency in the graph\n",
    "    - last: a node that is the ending point of the path - the path will never extend beyond this node (default: 'end')\n",
    "    - part: which part of Day 12 of AOC 2021 is being solved (default: 1)\n",
    "    \n",
    "    Output:\n",
    "    If the path has last as its final entry, the set containing `path` is returned. Otherwise, all possible following nodes\n",
    "    are added to `path` and the set of these new paths is returned.\n",
    "    \n",
    "    Remarks:\n",
    "    - if part=1 the possible next nodes are restricted to uppercase nodes and lowercase nodes that have not yet been visited\n",
    "    - if part=2 a path is allowed to enter exactly one lowercase node twice\n",
    "    '''\n",
    "    if path[-1] == last:\n",
    "        return {path}\n",
    "    else:\n",
    "        paths = set()\n",
    "        for cave in cave_adjacency[path[-1]]:\n",
    "            new_path = list(path).copy()\n",
    "            if cave.isupper():\n",
    "                new_path.append(cave)\n",
    "                paths.add(tuple(new_path))\n",
    "            elif (cave not in path) or (part == 2 and has_no_duplicate_small(path)):\n",
    "                new_path.append(cave)\n",
    "                paths.add(tuple(new_path))                \n",
    "    return paths"
   ]
  },
  {
   "cell_type": "code",
   "execution_count": 4,
   "metadata": {},
   "outputs": [],
   "source": [
    "def get_all_paths(cave_string,first='start',last='end',part=1):\n",
    "    '''\n",
    "    Finds all paths that begin at `first` and end at `last` for the graph represented by a cave string.\n",
    "    \n",
    "    Input:\n",
    "    - cave_string: a string that represents the connections of a graph where each adjacency, `\"A-B\"`, is on its own line\n",
    "    - first: the starting node of the paths to be considered (default: 'start')\n",
    "    - last: the ending node of the paths to be considered (default: 'end')\n",
    "    - part: which part of Day 12 of AOC 2021 is being solved (default: 1)\n",
    "    \n",
    "    Output:\n",
    "    A set of all paths from the `first` node to the `last` following the rules of `part`.\n",
    "    '''\n",
    "    tunnels = make_adjacency(cave_string,first)\n",
    "    paths = get_all_next([first],tunnels)\n",
    "    while True in [p[-1] != last for p in paths]:\n",
    "        paths = set.union(*[get_all_next(path,tunnels,last,part) for path in paths])\n",
    "    return paths"
   ]
  },
  {
   "cell_type": "code",
   "execution_count": 5,
   "metadata": {},
   "outputs": [],
   "source": [
    "def get_num_paths(cave_string, first='start', last='end', part=1):\n",
    "    '''\n",
    "    Counts the number of paths generated by `get_all_paths`.\n",
    "    '''\n",
    "    return len(get_all_paths(cave_string,first,last,part))"
   ]
  },
  {
   "cell_type": "code",
   "execution_count": 6,
   "metadata": {
    "scrolled": true
   },
   "outputs": [
    {
     "data": {
      "text/plain": [
       "10"
      ]
     },
     "execution_count": 6,
     "metadata": {},
     "output_type": "execute_result"
    }
   ],
   "source": [
    "get_num_paths(test_1)"
   ]
  },
  {
   "cell_type": "code",
   "execution_count": 7,
   "metadata": {},
   "outputs": [
    {
     "data": {
      "text/plain": [
       "19"
      ]
     },
     "execution_count": 7,
     "metadata": {},
     "output_type": "execute_result"
    }
   ],
   "source": [
    "get_num_paths(test_2)"
   ]
  },
  {
   "cell_type": "code",
   "execution_count": 8,
   "metadata": {},
   "outputs": [
    {
     "data": {
      "text/plain": [
       "226"
      ]
     },
     "execution_count": 8,
     "metadata": {},
     "output_type": "execute_result"
    }
   ],
   "source": [
    "get_num_paths(test_3)"
   ]
  },
  {
   "cell_type": "code",
   "execution_count": 9,
   "metadata": {},
   "outputs": [
    {
     "data": {
      "text/plain": [
       "3230"
      ]
     },
     "execution_count": 9,
     "metadata": {},
     "output_type": "execute_result"
    }
   ],
   "source": [
    "get_num_paths(my_input)"
   ]
  },
  {
   "cell_type": "markdown",
   "metadata": {},
   "source": [
    "# Part 2 - Paths are now allowed to enter exactly one small cave twice"
   ]
  },
  {
   "cell_type": "code",
   "execution_count": 10,
   "metadata": {},
   "outputs": [],
   "source": [
    "def has_no_duplicate_small(path):\n",
    "    '''\n",
    "    An extra function needed in `get_all_next` for part 2 of AOC 2021 Day 12. Specifically this returns `True` if the list\n",
    "    `path` contains only unique lowercase strings and `False` if it contains any duplicate lowercase strings.\n",
    "    '''\n",
    "    small_caves = [cave for cave in path if cave.islower()]\n",
    "    return len(small_caves) == len(set(small_caves))"
   ]
  },
  {
   "cell_type": "code",
   "execution_count": 11,
   "metadata": {},
   "outputs": [
    {
     "data": {
      "text/plain": [
       "36"
      ]
     },
     "execution_count": 11,
     "metadata": {},
     "output_type": "execute_result"
    }
   ],
   "source": [
    "get_num_paths(test_1,part=2)"
   ]
  },
  {
   "cell_type": "code",
   "execution_count": 12,
   "metadata": {},
   "outputs": [
    {
     "data": {
      "text/plain": [
       "103"
      ]
     },
     "execution_count": 12,
     "metadata": {},
     "output_type": "execute_result"
    }
   ],
   "source": [
    "get_num_paths(test_2,part=2)"
   ]
  },
  {
   "cell_type": "code",
   "execution_count": 13,
   "metadata": {},
   "outputs": [
    {
     "data": {
      "text/plain": [
       "3509"
      ]
     },
     "execution_count": 13,
     "metadata": {},
     "output_type": "execute_result"
    }
   ],
   "source": [
    "get_num_paths(test_3,part=2)"
   ]
  },
  {
   "cell_type": "code",
   "execution_count": 14,
   "metadata": {},
   "outputs": [
    {
     "data": {
      "text/plain": [
       "83475"
      ]
     },
     "execution_count": 14,
     "metadata": {},
     "output_type": "execute_result"
    }
   ],
   "source": [
    "get_num_paths(my_input,part=2)"
   ]
  },
  {
   "cell_type": "code",
   "execution_count": null,
   "metadata": {},
   "outputs": [],
   "source": []
  }
 ],
 "metadata": {
  "kernelspec": {
   "display_name": "Python 3",
   "language": "python",
   "name": "python3"
  },
  "language_info": {
   "codemirror_mode": {
    "name": "ipython",
    "version": 3
   },
   "file_extension": ".py",
   "mimetype": "text/x-python",
   "name": "python",
   "nbconvert_exporter": "python",
   "pygments_lexer": "ipython3",
   "version": "3.6.5"
  }
 },
 "nbformat": 4,
 "nbformat_minor": 2
}
