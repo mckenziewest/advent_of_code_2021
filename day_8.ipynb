{
 "cells": [
  {
   "cell_type": "code",
   "execution_count": 1,
   "metadata": {},
   "outputs": [],
   "source": [
    "import pandas as pd\n",
    "import numpy as np\n",
    "\n",
    "with open('inputs/input_8.txt') as the_data:\n",
    "    the_lines = the_data.read().replace(\" |\",\"\").strip('\\n').split('\\n')\n",
    "    \n",
    "the_lines = [l.split() for l in the_lines]\n",
    "line_df = pd.DataFrame(the_lines,columns=[a for a in range(10,24)])\n",
    "line_df = line_df.applymap(lambda x: \"\".join(sorted(x)))"
   ]
  },
  {
   "cell_type": "markdown",
   "metadata": {},
   "source": [
    "# Part 1 - How many strings of length 2,3,4, or 7 appear in the last 4 columns"
   ]
  },
  {
   "cell_type": "code",
   "execution_count": 2,
   "metadata": {},
   "outputs": [],
   "source": [
    "num_values = 0\n",
    "for i in line_df.columns[-4:]:\n",
    "    num_values += line_df[i].str.len().isin([2,3,4,7]).sum()"
   ]
  },
  {
   "cell_type": "code",
   "execution_count": 3,
   "metadata": {},
   "outputs": [
    {
     "data": {
      "text/plain": [
       "342"
      ]
     },
     "execution_count": 3,
     "metadata": {},
     "output_type": "execute_result"
    }
   ],
   "source": [
    "num_values"
   ]
  },
  {
   "cell_type": "markdown",
   "metadata": {},
   "source": [
    "# Part 2 - Identifying the digits\n",
    "\n",
    "Let's start easy: The numbers 1, 7, 4, and 8 will be represented by 2, 3, 4 and 7 characters respectively. They are the only numbers represented by strings of these lengths."
   ]
  },
  {
   "cell_type": "code",
   "execution_count": 4,
   "metadata": {},
   "outputs": [],
   "source": [
    "def get_entry_with_length(row,length):\n",
    "    return row[row.str.len()==length].iloc[0]    "
   ]
  },
  {
   "cell_type": "code",
   "execution_count": 5,
   "metadata": {},
   "outputs": [],
   "source": [
    "line_df[1] = line_df.apply(get_entry_with_length,args=[2],axis=1)\n",
    "line_df[7] = line_df.apply(get_entry_with_length,args=[3],axis=1)\n",
    "line_df[4] = line_df.apply(get_entry_with_length,args=[4],axis=1)\n",
    "line_df[8] = line_df.apply(get_entry_with_length,args=[7],axis=1)"
   ]
  },
  {
   "cell_type": "markdown",
   "metadata": {},
   "source": [
    "Next we use these to isolate other values. \n",
    "\n",
    "* Notice that 9 is the only digit that will be represented using 6 characters such that 4 of these characters are the representation of the number 4. \n",
    "* Similarly 3 is the only 5-character number that contains the characters that represent 1."
   ]
  },
  {
   "cell_type": "code",
   "execution_count": 6,
   "metadata": {},
   "outputs": [],
   "source": [
    "def get_entry_with_length_and_substring(row,length,substring_col):\n",
    "    right_length = row.loc[row.str.len() == length]\n",
    "    has_right_subset = right_length.apply(lambda x:set(x).issuperset(set(row[substring_col])))\n",
    "    return right_length.loc[has_right_subset].iloc[0]\n",
    "\n",
    "def get_entry_with_length_and_superstring(row,length,superstring_col):\n",
    "    right_length = row.loc[row.str.len() == length]\n",
    "    superset = set(row[superstring_col])\n",
    "    has_right_superset = right_length.apply(lambda x:set(x).issubset(superset))\n",
    "    return right_length.loc[has_right_superset].iloc[0]"
   ]
  },
  {
   "cell_type": "code",
   "execution_count": 7,
   "metadata": {},
   "outputs": [],
   "source": [
    "line_df[9] = line_df.apply(get_entry_with_length_and_substring,args=[6,4],axis=1)\n",
    "line_df[3] = line_df.apply(get_entry_with_length_and_substring,args=[5,1],axis=1)"
   ]
  },
  {
   "cell_type": "markdown",
   "metadata": {},
   "source": [
    "We see that 6 is the only value represented by 6 characters that does not contain 1. So let's modify our superset function to be not a superset.\n",
    "* The integer 5 is the only 5-character number that is contained entirely in the representation of 6."
   ]
  },
  {
   "cell_type": "code",
   "execution_count": 8,
   "metadata": {},
   "outputs": [],
   "source": [
    "def get_entry_with_length_and_non_substring(row,length,substring_col):\n",
    "    right_length = row.loc[row.str.len() == length]\n",
    "    has_right_subset = right_length.apply(lambda x:set(x).issuperset(set(row[substring_col])))\n",
    "    return right_length.loc[~has_right_subset].iloc[0]"
   ]
  },
  {
   "cell_type": "code",
   "execution_count": 9,
   "metadata": {},
   "outputs": [],
   "source": [
    "line_df[6] = line_df.apply(get_entry_with_length_and_non_substring,args=[6,1],axis=1)\n",
    "line_df[5] = line_df.apply(get_entry_with_length_and_superstring,args=[5,6],axis=1)"
   ]
  },
  {
   "cell_type": "markdown",
   "metadata": {},
   "source": [
    "What remains is 2 and 0, so let's just define a function that isolated what remains depending on its length."
   ]
  },
  {
   "cell_type": "code",
   "execution_count": 10,
   "metadata": {},
   "outputs": [],
   "source": [
    "def get_entry_with_length_and_is_unknown(row, known_cols,length):\n",
    "    known_vals = [row[c] for c in known_cols]\n",
    "    return get_entry_with_length(row[~ row.isin(known_vals)],length)"
   ]
  },
  {
   "cell_type": "code",
   "execution_count": 11,
   "metadata": {},
   "outputs": [],
   "source": [
    "\n",
    "line_df[2] = line_df.apply(get_entry_with_length_and_is_unknown,args=[[1,7,4,8,9,3,5,6],5],axis=1)\n",
    "line_df[0] = line_df.apply(get_entry_with_length_and_is_unknown,args=[[1,7,4,8,9,3,5,6,2],6],axis=1)"
   ]
  },
  {
   "cell_type": "markdown",
   "metadata": {},
   "source": [
    "Now we know exactly what string represents each digit."
   ]
  },
  {
   "cell_type": "code",
   "execution_count": 12,
   "metadata": {},
   "outputs": [],
   "source": [
    "correct_vals = line_df[[a for a in range(10)]]"
   ]
  },
  {
   "cell_type": "code",
   "execution_count": 13,
   "metadata": {},
   "outputs": [
    {
     "data": {
      "text/html": [
       "<div>\n",
       "<style scoped>\n",
       "    .dataframe tbody tr th:only-of-type {\n",
       "        vertical-align: middle;\n",
       "    }\n",
       "\n",
       "    .dataframe tbody tr th {\n",
       "        vertical-align: top;\n",
       "    }\n",
       "\n",
       "    .dataframe thead th {\n",
       "        text-align: right;\n",
       "    }\n",
       "</style>\n",
       "<table border=\"1\" class=\"dataframe\">\n",
       "  <thead>\n",
       "    <tr style=\"text-align: right;\">\n",
       "      <th></th>\n",
       "      <th>0</th>\n",
       "      <th>1</th>\n",
       "      <th>2</th>\n",
       "      <th>3</th>\n",
       "      <th>4</th>\n",
       "      <th>5</th>\n",
       "      <th>6</th>\n",
       "      <th>7</th>\n",
       "      <th>8</th>\n",
       "      <th>9</th>\n",
       "    </tr>\n",
       "  </thead>\n",
       "  <tbody>\n",
       "    <tr>\n",
       "      <th>0</th>\n",
       "      <td>abcdef</td>\n",
       "      <td>bd</td>\n",
       "      <td>acdeg</td>\n",
       "      <td>bcdeg</td>\n",
       "      <td>bdfg</td>\n",
       "      <td>bcefg</td>\n",
       "      <td>abcefg</td>\n",
       "      <td>bde</td>\n",
       "      <td>abcdefg</td>\n",
       "      <td>bcdefg</td>\n",
       "    </tr>\n",
       "    <tr>\n",
       "      <th>1</th>\n",
       "      <td>acdefg</td>\n",
       "      <td>ac</td>\n",
       "      <td>bcefg</td>\n",
       "      <td>abceg</td>\n",
       "      <td>abcd</td>\n",
       "      <td>abdeg</td>\n",
       "      <td>abdefg</td>\n",
       "      <td>acg</td>\n",
       "      <td>abcdefg</td>\n",
       "      <td>abcdeg</td>\n",
       "    </tr>\n",
       "    <tr>\n",
       "      <th>2</th>\n",
       "      <td>abcdeg</td>\n",
       "      <td>de</td>\n",
       "      <td>bcefg</td>\n",
       "      <td>bdefg</td>\n",
       "      <td>adef</td>\n",
       "      <td>abdfg</td>\n",
       "      <td>abcdfg</td>\n",
       "      <td>deg</td>\n",
       "      <td>abcdefg</td>\n",
       "      <td>abdefg</td>\n",
       "    </tr>\n",
       "    <tr>\n",
       "      <th>3</th>\n",
       "      <td>abcdeg</td>\n",
       "      <td>ae</td>\n",
       "      <td>abdfg</td>\n",
       "      <td>adefg</td>\n",
       "      <td>acef</td>\n",
       "      <td>cdefg</td>\n",
       "      <td>bcdefg</td>\n",
       "      <td>ade</td>\n",
       "      <td>abcdefg</td>\n",
       "      <td>acdefg</td>\n",
       "    </tr>\n",
       "    <tr>\n",
       "      <th>4</th>\n",
       "      <td>abcefg</td>\n",
       "      <td>ef</td>\n",
       "      <td>acdfg</td>\n",
       "      <td>cdefg</td>\n",
       "      <td>bdef</td>\n",
       "      <td>bcdeg</td>\n",
       "      <td>abcdeg</td>\n",
       "      <td>cef</td>\n",
       "      <td>abcdefg</td>\n",
       "      <td>bcdefg</td>\n",
       "    </tr>\n",
       "    <tr>\n",
       "      <th>...</th>\n",
       "      <td>...</td>\n",
       "      <td>...</td>\n",
       "      <td>...</td>\n",
       "      <td>...</td>\n",
       "      <td>...</td>\n",
       "      <td>...</td>\n",
       "      <td>...</td>\n",
       "      <td>...</td>\n",
       "      <td>...</td>\n",
       "      <td>...</td>\n",
       "    </tr>\n",
       "    <tr>\n",
       "      <th>195</th>\n",
       "      <td>abdefg</td>\n",
       "      <td>ad</td>\n",
       "      <td>bcdeg</td>\n",
       "      <td>abcdg</td>\n",
       "      <td>acdf</td>\n",
       "      <td>abcfg</td>\n",
       "      <td>abcefg</td>\n",
       "      <td>adg</td>\n",
       "      <td>abcdefg</td>\n",
       "      <td>abcdfg</td>\n",
       "    </tr>\n",
       "    <tr>\n",
       "      <th>196</th>\n",
       "      <td>acdefg</td>\n",
       "      <td>cf</td>\n",
       "      <td>abdfg</td>\n",
       "      <td>abcdf</td>\n",
       "      <td>bcef</td>\n",
       "      <td>abcde</td>\n",
       "      <td>abcdeg</td>\n",
       "      <td>cdf</td>\n",
       "      <td>abcdefg</td>\n",
       "      <td>abcdef</td>\n",
       "    </tr>\n",
       "    <tr>\n",
       "      <th>197</th>\n",
       "      <td>abcefg</td>\n",
       "      <td>eg</td>\n",
       "      <td>bcdef</td>\n",
       "      <td>cdefg</td>\n",
       "      <td>adeg</td>\n",
       "      <td>acdfg</td>\n",
       "      <td>abcdfg</td>\n",
       "      <td>efg</td>\n",
       "      <td>abcdefg</td>\n",
       "      <td>acdefg</td>\n",
       "    </tr>\n",
       "    <tr>\n",
       "      <th>198</th>\n",
       "      <td>abcdef</td>\n",
       "      <td>ae</td>\n",
       "      <td>abdfg</td>\n",
       "      <td>abefg</td>\n",
       "      <td>aceg</td>\n",
       "      <td>bcefg</td>\n",
       "      <td>bcdefg</td>\n",
       "      <td>abe</td>\n",
       "      <td>abcdefg</td>\n",
       "      <td>abcefg</td>\n",
       "    </tr>\n",
       "    <tr>\n",
       "      <th>199</th>\n",
       "      <td>acdefg</td>\n",
       "      <td>fg</td>\n",
       "      <td>bcdef</td>\n",
       "      <td>bcdfg</td>\n",
       "      <td>abfg</td>\n",
       "      <td>abcdg</td>\n",
       "      <td>abcdeg</td>\n",
       "      <td>cfg</td>\n",
       "      <td>abcdefg</td>\n",
       "      <td>abcdfg</td>\n",
       "    </tr>\n",
       "  </tbody>\n",
       "</table>\n",
       "<p>200 rows × 10 columns</p>\n",
       "</div>"
      ],
      "text/plain": [
       "          0   1      2      3     4      5       6    7        8       9\n",
       "0    abcdef  bd  acdeg  bcdeg  bdfg  bcefg  abcefg  bde  abcdefg  bcdefg\n",
       "1    acdefg  ac  bcefg  abceg  abcd  abdeg  abdefg  acg  abcdefg  abcdeg\n",
       "2    abcdeg  de  bcefg  bdefg  adef  abdfg  abcdfg  deg  abcdefg  abdefg\n",
       "3    abcdeg  ae  abdfg  adefg  acef  cdefg  bcdefg  ade  abcdefg  acdefg\n",
       "4    abcefg  ef  acdfg  cdefg  bdef  bcdeg  abcdeg  cef  abcdefg  bcdefg\n",
       "..      ...  ..    ...    ...   ...    ...     ...  ...      ...     ...\n",
       "195  abdefg  ad  bcdeg  abcdg  acdf  abcfg  abcefg  adg  abcdefg  abcdfg\n",
       "196  acdefg  cf  abdfg  abcdf  bcef  abcde  abcdeg  cdf  abcdefg  abcdef\n",
       "197  abcefg  eg  bcdef  cdefg  adeg  acdfg  abcdfg  efg  abcdefg  acdefg\n",
       "198  abcdef  ae  abdfg  abefg  aceg  bcefg  bcdefg  abe  abcdefg  abcefg\n",
       "199  acdefg  fg  bcdef  bcdfg  abfg  abcdg  abcdeg  cfg  abcdefg  abcdfg\n",
       "\n",
       "[200 rows x 10 columns]"
      ]
     },
     "execution_count": 13,
     "metadata": {},
     "output_type": "execute_result"
    }
   ],
   "source": [
    "correct_vals"
   ]
  },
  {
   "cell_type": "markdown",
   "metadata": {},
   "source": [
    "Let's go ahead and find the displayed value for each row."
   ]
  },
  {
   "cell_type": "code",
   "execution_count": 14,
   "metadata": {},
   "outputs": [],
   "source": [
    "def find_value(row,display_cols,known_cols):\n",
    "    key_cols = row[known_cols]\n",
    "    return int(''.join([str(key_cols.loc[key_cols == val].keys()[0]) for val in row[display_cols]]))\n",
    "line_df['displayed'] = line_df.apply(find_value,args = [[20,21,22,23],[a for a in range(10)]],axis=1)"
   ]
  },
  {
   "cell_type": "code",
   "execution_count": 15,
   "metadata": {},
   "outputs": [
    {
     "data": {
      "text/plain": [
       "1068933"
      ]
     },
     "execution_count": 15,
     "metadata": {},
     "output_type": "execute_result"
    }
   ],
   "source": [
    "line_df['displayed'].sum()"
   ]
  },
  {
   "cell_type": "code",
   "execution_count": 16,
   "metadata": {},
   "outputs": [
    {
     "data": {
      "text/plain": [
       "0      2304\n",
       "1      2211\n",
       "2      9335\n",
       "3      8816\n",
       "4      1583\n",
       "       ... \n",
       "195    5013\n",
       "196    3807\n",
       "197    3729\n",
       "198    5117\n",
       "199    1309\n",
       "Name: displayed, Length: 200, dtype: int64"
      ]
     },
     "execution_count": 16,
     "metadata": {},
     "output_type": "execute_result"
    }
   ],
   "source": [
    "line_df['displayed']"
   ]
  },
  {
   "cell_type": "code",
   "execution_count": null,
   "metadata": {},
   "outputs": [],
   "source": []
  }
 ],
 "metadata": {
  "kernelspec": {
   "display_name": "Python 3",
   "language": "python",
   "name": "python3"
  },
  "language_info": {
   "codemirror_mode": {
    "name": "ipython",
    "version": 3
   },
   "file_extension": ".py",
   "mimetype": "text/x-python",
   "name": "python",
   "nbconvert_exporter": "python",
   "pygments_lexer": "ipython3",
   "version": "3.6.5"
  }
 },
 "nbformat": 4,
 "nbformat_minor": 2
}
