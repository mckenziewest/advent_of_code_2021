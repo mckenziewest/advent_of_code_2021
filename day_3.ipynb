{
 "cells": [
  {
   "cell_type": "code",
   "execution_count": 1,
   "metadata": {},
   "outputs": [],
   "source": [
    "with open('input_3.txt') as the_data:\n",
    "    bin_nums = the_data.read().split('\\n')"
   ]
  },
  {
   "cell_type": "code",
   "execution_count": 2,
   "metadata": {},
   "outputs": [],
   "source": [
    "import pandas as pd\n",
    "bin_num_df = pd.DataFrame([list(a) for a in bin_nums])"
   ]
  },
  {
   "cell_type": "code",
   "execution_count": 3,
   "metadata": {},
   "outputs": [],
   "source": [
    "most = ''\n",
    "least = ''\n",
    "for i in range(12):\n",
    "    valct = bin_num_df[i].value_counts().keys()\n",
    "    most += valct[0]\n",
    "    least += valct[1]"
   ]
  },
  {
   "cell_type": "code",
   "execution_count": 4,
   "metadata": {},
   "outputs": [
    {
     "name": "stdout",
     "output_type": "stream",
     "text": [
      "011011110000\n",
      "100100001111\n"
     ]
    }
   ],
   "source": [
    "print(most)\n",
    "print(least)"
   ]
  },
  {
   "cell_type": "code",
   "execution_count": 5,
   "metadata": {},
   "outputs": [],
   "source": [
    "gamma = int(most,base=2)\n",
    "epsilon = int(least,base=2)"
   ]
  },
  {
   "cell_type": "code",
   "execution_count": 6,
   "metadata": {},
   "outputs": [
    {
     "name": "stdout",
     "output_type": "stream",
     "text": [
      "4118544\n"
     ]
    }
   ],
   "source": [
    "print(gamma*epsilon)"
   ]
  },
  {
   "cell_type": "markdown",
   "metadata": {},
   "source": [
    "# Part 2 Restrict the dataframe after finding the most/least"
   ]
  },
  {
   "cell_type": "code",
   "execution_count": 7,
   "metadata": {},
   "outputs": [],
   "source": [
    "def restrict_df(df,ind,val_ind):\n",
    "    '''\n",
    "    Restrict our dataframe, `df` to the most/least (determined by `val_ind`) entry in column `ind`.\n",
    "    \n",
    "    Input:\n",
    "    - `df` - a datrame of 0's and 1's\n",
    "    - `ind` - the name of a column in `df`\n",
    "    - `val_ind` - an indicator of whether we're looking for the most (0) or least (1) common\n",
    "                  entry of `df[ind]`\n",
    "                      \n",
    "    Output:\n",
    "    A datframe whose rows are those in `df` whose `ind` column matches the most or least common\n",
    "    entry of `df[ind]` as indicated by `val_ind`.\n",
    "    '''\n",
    "    vcounts = df[ind].value_counts()\n",
    "    if vcounts[val_ind] == len(df)/2:\n",
    "        k = ['1','0'][val_ind]\n",
    "    else:\n",
    "        k = vcounts.keys()[val_ind]\n",
    "    return df.loc[df[ind] == k]\n",
    "\n",
    "# Start the dataframes\n",
    "oxygen_df = bin_num_df.loc[bin_num_df[0] == bin_num_df[0].value_counts().keys()[0]]\n",
    "co2_df = bin_num_df.loc[bin_num_df[0] == bin_num_df[0].value_counts().keys()[1]]\n",
    "\n",
    "# Loop until the oxygen dataframe has but one item. \n",
    "i = 0\n",
    "while len(oxygen_df)>1 and i < len(oxygen_df.columns):\n",
    "    oxygen_df = restrict_df(oxygen_df,i,0)\n",
    "    i += 1\n",
    "\n",
    "# Loop until the CO2 dataframe has but one item.\n",
    "i = 0\n",
    "while len(co2_df) > 1 and i < len(co2_df.columns):\n",
    "    co2_df = restrict_df(co2_df,i,-1)\n",
    "    i += 1\n",
    "        "
   ]
  },
  {
   "cell_type": "code",
   "execution_count": 8,
   "metadata": {},
   "outputs": [],
   "source": [
    "# Convert the single remaining row of the oxygen dataframe to an string\n",
    "ostring = ''.join(oxygen_df.iloc[0,:])\n",
    "# Convert the string that is a binary representation of an integer to an integer\n",
    "oxygen = int(ostring,base=2)"
   ]
  },
  {
   "cell_type": "code",
   "execution_count": 9,
   "metadata": {},
   "outputs": [],
   "source": [
    "# Convert the single remaining row of the oxygen dataframe to an string\n",
    "cstring = ''.join(co2_df.iloc[0,:])\n",
    "# Convert the string that is a binary representation of an integer to an integer\n",
    "co2 = int(cstring,base=2)"
   ]
  },
  {
   "cell_type": "code",
   "execution_count": 10,
   "metadata": {},
   "outputs": [
    {
     "data": {
      "text/plain": [
       "3832770"
      ]
     },
     "execution_count": 10,
     "metadata": {},
     "output_type": "execute_result"
    }
   ],
   "source": [
    "# Compute the product\n",
    "co2*oxygen"
   ]
  },
  {
   "cell_type": "code",
   "execution_count": null,
   "metadata": {},
   "outputs": [],
   "source": []
  },
  {
   "cell_type": "code",
   "execution_count": null,
   "metadata": {},
   "outputs": [],
   "source": []
  }
 ],
 "metadata": {
  "kernelspec": {
   "display_name": "Python 3",
   "language": "python",
   "name": "python3"
  },
  "language_info": {
   "codemirror_mode": {
    "name": "ipython",
    "version": 3
   },
   "file_extension": ".py",
   "mimetype": "text/x-python",
   "name": "python",
   "nbconvert_exporter": "python",
   "pygments_lexer": "ipython3",
   "version": "3.6.5"
  }
 },
 "nbformat": 4,
 "nbformat_minor": 2
}
