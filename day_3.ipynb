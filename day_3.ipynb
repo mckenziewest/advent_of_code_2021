{
 "cells": [
  {
   "cell_type": "code",
   "execution_count": 1,
   "metadata": {},
   "outputs": [],
   "source": [
    "with open('input_3.txt') as the_data:\n",
    "    bin_nums = the_data.read().split('\\n')"
   ]
  },
  {
   "cell_type": "code",
   "execution_count": 2,
   "metadata": {},
   "outputs": [],
   "source": [
    "import pandas as pd\n",
    "bin_num_df = pd.DataFrame([list(a) for a in bin_nums])"
   ]
  },
  {
   "cell_type": "code",
   "execution_count": 3,
   "metadata": {},
   "outputs": [],
   "source": [
    "most = ''\n",
    "least = ''\n",
    "for i in range(12):\n",
    "    valct = bin_num_df[i].value_counts().keys()\n",
    "    most += valct[0]\n",
    "    least += valct[1]"
   ]
  },
  {
   "cell_type": "code",
   "execution_count": 4,
   "metadata": {},
   "outputs": [
    {
     "name": "stdout",
     "output_type": "stream",
     "text": [
      "011011110000\n",
      "100100001111\n"
     ]
    }
   ],
   "source": [
    "print(most)\n",
    "print(least)"
   ]
  },
  {
   "cell_type": "code",
   "execution_count": 5,
   "metadata": {},
   "outputs": [],
   "source": [
    "gamma = int(most,base=2)\n",
    "epsilon = int(least,base=2)"
   ]
  },
  {
   "cell_type": "code",
   "execution_count": 6,
   "metadata": {},
   "outputs": [
    {
     "name": "stdout",
     "output_type": "stream",
     "text": [
      "4118544\n"
     ]
    }
   ],
   "source": [
    "print(gamma*epsilon)"
   ]
  },
  {
   "cell_type": "markdown",
   "metadata": {},
   "source": [
    "# Part 2 Restrict the dataframe after finding the most/least"
   ]
  },
  {
   "cell_type": "code",
   "execution_count": 7,
   "metadata": {},
   "outputs": [],
   "source": [
    "vcounts_keys = bin_num_df[0].value_counts().keys()\n",
    "oxygen_df_list = [bin_num_df.loc[bin_num_df[0] == vcounts_keys[0]]]\n",
    "co2_rating = [bin_num_df.loc[bin_num_df[0] == vcounts_keys[1]]]"
   ]
  },
  {
   "cell_type": "code",
   "execution_count": 8,
   "metadata": {},
   "outputs": [],
   "source": [
    "for i in range(1,12):\n",
    "    current_oxygen_df = oxygen_df_list[-1]\n",
    "    if len(current_oxygen_df)>1:\n",
    "        vc_oxygen = current_oxygen_df[i].value_counts()\n",
    "        if vc_oxygen[0] == len(current_oxygen_df)/2:\n",
    "            k = '1'\n",
    "        else:\n",
    "            k = vc_oxygen.keys()[0]\n",
    "        oxygen_df_list.append(current_oxygen_df.loc[current_oxygen_df[i] == k])\n",
    "for i in range(1,12):   \n",
    "    current_co2_rating = co2_rating[-1]\n",
    "    if len(current_co2_rating) > 1:\n",
    "        vc_co2 = current_co2_rating[i].value_counts()\n",
    "        if vc_co2[0] == len(current_co2_rating)/2:\n",
    "            k = '0'\n",
    "        else:\n",
    "            k = vc_co2.keys()[-1]\n",
    "        co2_rating.append(current_co2_rating.loc[current_co2_rating[i] == k])\n",
    "    else:\n",
    "        break\n",
    "        "
   ]
  },
  {
   "cell_type": "code",
   "execution_count": 9,
   "metadata": {},
   "outputs": [],
   "source": [
    "ostring = ''.join(oxygen_df_list[-1].iloc[0,:])\n",
    "oxygen = int(ostring,base=2)"
   ]
  },
  {
   "cell_type": "code",
   "execution_count": 10,
   "metadata": {},
   "outputs": [],
   "source": [
    "cstring = ''.join(co2_rating[-1].iloc[0,:])\n",
    "co2 = int(cstring,base=2)"
   ]
  },
  {
   "cell_type": "code",
   "execution_count": 11,
   "metadata": {},
   "outputs": [
    {
     "data": {
      "text/plain": [
       "3832770"
      ]
     },
     "execution_count": 11,
     "metadata": {},
     "output_type": "execute_result"
    }
   ],
   "source": [
    "co2*oxygen"
   ]
  },
  {
   "cell_type": "code",
   "execution_count": 12,
   "metadata": {},
   "outputs": [
    {
     "data": {
      "text/html": [
       "<div>\n",
       "<style scoped>\n",
       "    .dataframe tbody tr th:only-of-type {\n",
       "        vertical-align: middle;\n",
       "    }\n",
       "\n",
       "    .dataframe tbody tr th {\n",
       "        vertical-align: top;\n",
       "    }\n",
       "\n",
       "    .dataframe thead th {\n",
       "        text-align: right;\n",
       "    }\n",
       "</style>\n",
       "<table border=\"1\" class=\"dataframe\">\n",
       "  <thead>\n",
       "    <tr style=\"text-align: right;\">\n",
       "      <th></th>\n",
       "      <th>0</th>\n",
       "      <th>1</th>\n",
       "      <th>2</th>\n",
       "      <th>3</th>\n",
       "      <th>4</th>\n",
       "      <th>5</th>\n",
       "      <th>6</th>\n",
       "      <th>7</th>\n",
       "      <th>8</th>\n",
       "      <th>9</th>\n",
       "      <th>10</th>\n",
       "      <th>11</th>\n",
       "    </tr>\n",
       "  </thead>\n",
       "  <tbody>\n",
       "    <tr>\n",
       "      <th>61</th>\n",
       "      <td>1</td>\n",
       "      <td>0</td>\n",
       "      <td>0</td>\n",
       "      <td>1</td>\n",
       "      <td>1</td>\n",
       "      <td>1</td>\n",
       "      <td>0</td>\n",
       "      <td>0</td>\n",
       "      <td>1</td>\n",
       "      <td>1</td>\n",
       "      <td>1</td>\n",
       "      <td>0</td>\n",
       "    </tr>\n",
       "  </tbody>\n",
       "</table>\n",
       "</div>"
      ],
      "text/plain": [
       "   0  1  2  3  4  5  6  7  8  9  10 11\n",
       "61  1  0  0  1  1  1  0  0  1  1  1  0"
      ]
     },
     "execution_count": 12,
     "metadata": {},
     "output_type": "execute_result"
    }
   ],
   "source": []
  },
  {
   "cell_type": "code",
   "execution_count": null,
   "metadata": {},
   "outputs": [],
   "source": []
  }
 ],
 "metadata": {
  "kernelspec": {
   "display_name": "Python 3",
   "language": "python",
   "name": "python3"
  },
  "language_info": {
   "codemirror_mode": {
    "name": "ipython",
    "version": 3
   },
   "file_extension": ".py",
   "mimetype": "text/x-python",
   "name": "python",
   "nbconvert_exporter": "python",
   "pygments_lexer": "ipython3",
   "version": "3.6.5"
  }
 },
 "nbformat": 4,
 "nbformat_minor": 2
}
