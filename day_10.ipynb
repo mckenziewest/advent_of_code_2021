{
 "cells": [
  {
   "cell_type": "code",
   "execution_count": 1,
   "metadata": {},
   "outputs": [],
   "source": [
    "with open('inputs/input_10.txt') as the_data:\n",
    "    commands = [list(a) for a in the_data.read().strip('\\n').split('\\n')]"
   ]
  },
  {
   "cell_type": "markdown",
   "metadata": {},
   "source": [
    "# Part 1 - Isolating corruption"
   ]
  },
  {
   "cell_type": "code",
   "execution_count": 2,
   "metadata": {},
   "outputs": [
    {
     "data": {
      "text/plain": [
       "339477"
      ]
     },
     "execution_count": 2,
     "metadata": {},
     "output_type": "execute_result"
    }
   ],
   "source": [
    "opens = ['(','[','{','<']\n",
    "closes = [')',']','}','>']\n",
    "points = {')':3,']':57,'}':1197,'>':25137}\n",
    "def find_first_bad(com):\n",
    "    '''\n",
    "    Determines whether a sequence of opening and closing braces is valid.\n",
    "    If not it returns the first invalid closing brace.\n",
    "    If so it returns the list of opening braces that do not have matching closing braces.\n",
    "    '''\n",
    "    command = com.copy() # Make a copy so that we don't change the original.\n",
    "    ii = 0\n",
    "    while ii < len(command):\n",
    "        if command[ii] in closes: # Look for the left-most closing brace.\n",
    "            prev = command[ii-1]\n",
    "            if opens.index(prev) != closes.index(command[ii]): # Verify that the previous opening brace matched this closer.\n",
    "                return command[ii], None # If not return the offening closer.\n",
    "                break\n",
    "            else: # If so, remove this opening and closing brace then continue on to the next entry.\n",
    "                command = [command[a] for a in range(len(command)) if a not in [ii-1,ii]]\n",
    "                ii -= 2\n",
    "        ii += 1\n",
    "    return None, command # If no corruption was found, return the remainder of command - the opening braces with no closer.\n",
    "\n",
    "score = 0\n",
    "not_corrupted = []\n",
    "for com in commands:\n",
    "    a = find_first_bad(com)\n",
    "    if a[0]:\n",
    "        score += points[a[0]]\n",
    "    else:\n",
    "        not_corrupted.append(a[1])\n",
    "        \n",
    "score           "
   ]
  },
  {
   "cell_type": "markdown",
   "metadata": {},
   "source": [
    "# Part 2 - Scores for non corrupted, incompleted commands\n",
    "\n",
    "We actually already have the data that is the incomplete portions of the commands stored in the list `not_corrupted`. So let's just score those up."
   ]
  },
  {
   "cell_type": "code",
   "execution_count": 3,
   "metadata": {},
   "outputs": [],
   "source": [
    "def get_score(open_list):\n",
    "    '''\n",
    "    Uses the weird scoring technique to find the score of the incomplete commands.\n",
    "    Takes the input that was return from the function in part 1 - the list of unfinished open braces.\n",
    "    '''\n",
    "    points = {'(':1,'[':2,'{':3,'<':4}\n",
    "    score = 0\n",
    "    for char in open_list[::-1]:\n",
    "        score *= 5\n",
    "        score += points[char]\n",
    "    return score"
   ]
  },
  {
   "cell_type": "code",
   "execution_count": 4,
   "metadata": {},
   "outputs": [],
   "source": [
    "scores_of_incomplete = [get_score(a) for a in not_corrupted]\n",
    "scores_of_incomplete.sort()"
   ]
  },
  {
   "cell_type": "code",
   "execution_count": 5,
   "metadata": {},
   "outputs": [
    {
     "data": {
      "text/plain": [
       "3049320156"
      ]
     },
     "execution_count": 5,
     "metadata": {},
     "output_type": "execute_result"
    }
   ],
   "source": [
    "# Get the score of the middle entry. This will have index FLOOR(LIST LENGTH/2)\n",
    "scores_of_incomplete[int(len(scores_of_incomplete)/2)]"
   ]
  }
 ],
 "metadata": {
  "kernelspec": {
   "display_name": "Python 3",
   "language": "python",
   "name": "python3"
  },
  "language_info": {
   "codemirror_mode": {
    "name": "ipython",
    "version": 3
   },
   "file_extension": ".py",
   "mimetype": "text/x-python",
   "name": "python",
   "nbconvert_exporter": "python",
   "pygments_lexer": "ipython3",
   "version": "3.6.5"
  }
 },
 "nbformat": 4,
 "nbformat_minor": 2
}
