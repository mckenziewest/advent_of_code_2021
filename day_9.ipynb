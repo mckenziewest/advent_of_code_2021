{
 "cells": [
  {
   "cell_type": "code",
   "execution_count": 1,
   "metadata": {},
   "outputs": [],
   "source": [
    "with open('inputs/input_9.txt') as the_data:\n",
    "    vals = [list(a) for a in the_data.read().strip('\\n').split('\\n')]\n",
    "vals = [[int(a) for a in row] for row in vals]"
   ]
  },
  {
   "cell_type": "markdown",
   "metadata": {},
   "source": [
    "# Part 1 - Finding locally low values"
   ]
  },
  {
   "cell_type": "code",
   "execution_count": 2,
   "metadata": {},
   "outputs": [],
   "source": [
    "low_points = []\n",
    "for i in range(len(vals)):\n",
    "    for j in range(len(vals[i])):\n",
    "        near = []\n",
    "        if i > 0:\n",
    "            near.append(vals[i-1][j])\n",
    "        if i < len(vals)-1:\n",
    "            near.append(vals[i+1][j])\n",
    "        if j > 0:\n",
    "            near.append(vals[i][j-1])\n",
    "        if j < len(vals[i])-1:\n",
    "            near.append(vals[i][j+1])\n",
    "        if vals[i][j] < min(near):\n",
    "            low_points.append((i,j))"
   ]
  },
  {
   "cell_type": "code",
   "execution_count": 3,
   "metadata": {},
   "outputs": [
    {
     "data": {
      "text/plain": [
       "522"
      ]
     },
     "execution_count": 3,
     "metadata": {},
     "output_type": "execute_result"
    }
   ],
   "source": [
    "sum_risk_levels = sum(vals[i][j] + 1 for i,j in low_points)\n",
    "sum_risk_levels"
   ]
  },
  {
   "cell_type": "markdown",
   "metadata": {},
   "source": [
    "# Part 2 - Finding Basins\n",
    "\n",
    "The way we're going to tackle this is through a brute force technique. We'll start with an entry that's not yet in a basin and is not a 9. Then we'll expand as a fractal until we have all entries in that basin. Then we remove everything in said basin from our master list and start again."
   ]
  },
  {
   "cell_type": "code",
   "execution_count": 4,
   "metadata": {},
   "outputs": [],
   "source": [
    "def get_adjacent_non_boundary(loc):\n",
    "    '''\n",
    "    Given a location in the form of a iterable, find all adjacent locations that are not on a boundary -- \n",
    "    the value in that location is a 9 or that location is off the grid.\n",
    "    \n",
    "    Input:\n",
    "    - `loc` an iterable (usually a tuple) representing a location in `vals`.\n",
    "    \n",
    "    Output:\n",
    "    A set of locations adjacent to `loc` that fit within the boundary of `vals` and do not have 9 as their entry.\n",
    "    '''\n",
    "    i = loc[0]\n",
    "    j = loc[1]\n",
    "    near = []\n",
    "    if i > 0:\n",
    "        near.append((i-1,j))\n",
    "    if i < len(vals)-1:\n",
    "        near.append((i+1,j))\n",
    "    if j > 0:\n",
    "        near.append((i,j-1))\n",
    "    if j < len(vals[i])-1:\n",
    "        near.append((i,j+1))\n",
    "    return {(a,b) for a,b in near if vals[a][b] != 9}\n",
    "    "
   ]
  },
  {
   "cell_type": "code",
   "execution_count": 5,
   "metadata": {},
   "outputs": [],
   "source": [
    "not_nines = [(i,j) for i in range(len(vals)) for j in range(len(vals[i])) if vals[i][j] != 9]\n",
    "basins = []\n",
    "while len(not_nines) > 0:\n",
    "    current_spot = not_nines.pop()\n",
    "    new_basin = set([current_spot])\n",
    "    bef_count = 0\n",
    "    while bef_count < len(new_basin): \n",
    "        bef_count = len(new_basin)\n",
    "        for a in new_basin:\n",
    "            new_basin = new_basin.union(get_adjacent_non_boundary(a))\n",
    "    not_nines = [loc for loc in not_nines if loc not in new_basin]\n",
    "    basins.append(new_basin)"
   ]
  },
  {
   "cell_type": "code",
   "execution_count": 6,
   "metadata": {},
   "outputs": [],
   "source": [
    "lengths = [len(b) for b in basins]\n",
    "lengths.sort()"
   ]
  },
  {
   "cell_type": "code",
   "execution_count": 7,
   "metadata": {},
   "outputs": [
    {
     "data": {
      "text/plain": [
       "916688"
      ]
     },
     "execution_count": 7,
     "metadata": {},
     "output_type": "execute_result"
    }
   ],
   "source": [
    "from numpy import prod\n",
    "prod(lengths[-3:])"
   ]
  },
  {
   "cell_type": "code",
   "execution_count": null,
   "metadata": {},
   "outputs": [],
   "source": []
  },
  {
   "cell_type": "code",
   "execution_count": null,
   "metadata": {},
   "outputs": [],
   "source": []
  }
 ],
 "metadata": {
  "kernelspec": {
   "display_name": "Python 3",
   "language": "python",
   "name": "python3"
  },
  "language_info": {
   "codemirror_mode": {
    "name": "ipython",
    "version": 3
   },
   "file_extension": ".py",
   "mimetype": "text/x-python",
   "name": "python",
   "nbconvert_exporter": "python",
   "pygments_lexer": "ipython3",
   "version": "3.6.5"
  }
 },
 "nbformat": 4,
 "nbformat_minor": 2
}
